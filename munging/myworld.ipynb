{
 "metadata": {
  "name": ""
 },
 "nbformat": 3,
 "nbformat_minor": 0,
 "worksheets": [
  {
   "cells": [
    {
     "cell_type": "code",
     "collapsed": false,
     "input": [
      "import pandas as pd\n",
      "import requests\n",
      "import re\n",
      "from subprocess import call"
     ],
     "language": "python",
     "metadata": {},
     "outputs": [],
     "prompt_number": 2
    },
    {
     "cell_type": "code",
     "collapsed": false,
     "input": [
      "# fetch the MyWorld codes\n",
      "mw_codes_json = requests.get('http://54.227.246.164/dataset/MYWorld_fields.json').json()"
     ],
     "language": "python",
     "metadata": {},
     "outputs": [],
     "prompt_number": 3
    },
    {
     "cell_type": "code",
     "collapsed": false,
     "input": [
      "# fetch the MyWorld data\n",
      "call(['wget', 'http://54.227.246.164/dataset/data/MYWorld_votes_all.csv.tar.bz2'])\n",
      "call(['bzip2','-d','MYWorld_votes_all.csv.tar.bz2'])\n",
      "call(['tar', '-xvf', 'MYWorld_votes_all.csv.tar'])\n",
      "mw = pd.read_csv('./MYWorld_votes_all.csv')"
     ],
     "language": "python",
     "metadata": {},
     "outputs": [],
     "prompt_number": 4
    },
    {
     "cell_type": "code",
     "collapsed": false,
     "input": [
      "# tuple list of countries in mw not in wgi\n",
      "# use the 'diff' function below to test this\n",
      "tuples = [\n",
      "    (\"american samoa\",\"samoa\"),\n",
      "    (\"micronesia, fed. sts.\", \"micronesia (federated states of)\"),\n",
      "    (\"bahamas, the\", \"bahamas\"),\n",
      "    (\"moldova\",\"republic of moldova\"),\n",
      "    (\"slovak republic\", \"slovakia\"),\n",
      "    (\"bolivia\",\"bolivia (plurinational state of)\"),\n",
      "    (\"gambia, the\",\"gambia\"),\n",
      "    (\"egypt, arab rep.\", \"egypt\"),\n",
      "    (\"iran, islamic rep.\",\"iran (islamic republic of)\"),\n",
      "    (\"korea, dem. rep.\",\"democratic people's republic of korea\"),\n",
      "    (\"korea, rep.\",\"republic of korea\",),\n",
      "    (\"lao pdr\",\"lao people's democratic republic\"),\n",
      "    (\"macedonia, fyr\",\"the former yugoslav republic of macedonia\"),\n",
      "    (\"yemen, rep.\", \"yemen\"),\n",
      "    (\"vietnam\", \"viet nam\"),\n",
      "    (\"congo, dem. rep.\",\"democratic republic of the congo\",),\n",
      "    (\"congo, rep.\", \"congo\"),\n",
      "    (\"united kingdom\",\"united kingdom of great britain and northern ireland\"),\n",
      "    (\"united states\",\"united states of america\"),\n",
      "    (\"venezuela, rb\",\"venezuela (bolivarian republic of)\"),\n",
      "    (\"west bank and gaza\", \"palestine (state of)\"),\n",
      "    (\"tanzania\", \"united republic of tanzania\"),\n",
      "    (\"kyrgyz republic\",\"kyrgyzstan\"),\n",
      "    (\"st. lucia\", \"saint lucia\"),\n",
      "    (\"st. vincent and the grenadines\", \"saint vincent and the grenadines\"),\n",
      "    (\"st. kitts and nevis\", \"saint kitts and nevis\")\n",
      "]"
     ],
     "language": "python",
     "metadata": {},
     "outputs": [],
     "prompt_number": 5
    },
    {
     "cell_type": "code",
     "collapsed": false,
     "input": [
      "dfs = {}\n",
      "target_cols = ['Country/Territory', '2012_Estimate']\n",
      "wgi_csvs = [\n",
      "    'control_of_corruption', \n",
      "    'political_stability_no_violence',\n",
      "    'rule_of_law', 'government_effectiveness', \n",
      "    'regulatory_quality', 'voice_accountability'\n",
      " ]\n",
      "\n",
      "# process the wgi data \n",
      "for csv in wgi_csvs:\n",
      "    # read in the data set\n",
      "    path = '/Users/p/Desktop/un-myworld/data/world_governance_indicators/%s' % str(csv + '.csv')\n",
      "    dfs[csv] = pd.read_csv(path)\n",
      "    # replace spaces in column names with udnerscores\n",
      "    dfs[csv].columns = [col.replace(' ', '_') for col in list(dfs[csv].columns)]\n",
      "    # replace the df with the target cols df\n",
      "    dfs[csv] = dfs[csv].ix[:,target_cols]\n",
      "    # add the name to the column names\n",
      "    dfs[csv].columns = ['country'] + [csv +'_'+ col for col in target_cols[1:]]\n",
      "    # make the country names lower case\n",
      "    dfs[csv]['country'] = dfs[csv]['country'].apply(to_lower)\n",
      "    # replace the bad countries with the good countries\n",
      "    for tup in tuples:\n",
      "        dfs[csv]['country'] = dfs[csv]['country'].replace(tup[0],tup[1])\n",
      "    # ineleganty fix the unruly countries    \n",
      "    dfs[csv].ix[dfs[csv]['country'].str.contains('voire'), 'country'] = \"cote d'ivoire\"\n",
      "    dfs[csv].ix[dfs[csv]['country'].str.contains('ncipe'), 'country'] = 'sao tome and principe'\n",
      "    dfs[csv].ix[dfs[csv]['country'].str.contains('of the congo'), 'country'] = 'democratic republic of the congo'\n",
      "    dfs[csv].ix[dfs[csv]['country'].str.contains('union'), 'country'] = 'reunion'"
     ],
     "language": "python",
     "metadata": {},
     "outputs": [
      {
       "ename": "IOError",
       "evalue": "File /Users/p/Desktop/un-myworld/data/world_governance_indicators/control_of_corruption.csv does not exist",
       "output_type": "pyerr",
       "traceback": [
        "\u001b[0;31m---------------------------------------------------------------------------\u001b[0m\n\u001b[0;31mIOError\u001b[0m                                   Traceback (most recent call last)",
        "\u001b[0;32m<ipython-input-6-d579783671ad>\u001b[0m in \u001b[0;36m<module>\u001b[0;34m()\u001b[0m\n\u001b[1;32m     12\u001b[0m     \u001b[0;31m# read in the data set\u001b[0m\u001b[0;34m\u001b[0m\u001b[0;34m\u001b[0m\u001b[0m\n\u001b[1;32m     13\u001b[0m     \u001b[0mpath\u001b[0m \u001b[0;34m=\u001b[0m \u001b[0;34m'/Users/p/Desktop/un-myworld/data/world_governance_indicators/%s'\u001b[0m \u001b[0;34m%\u001b[0m \u001b[0mstr\u001b[0m\u001b[0;34m(\u001b[0m\u001b[0mcsv\u001b[0m \u001b[0;34m+\u001b[0m \u001b[0;34m'.csv'\u001b[0m\u001b[0;34m)\u001b[0m\u001b[0;34m\u001b[0m\u001b[0m\n\u001b[0;32m---> 14\u001b[0;31m     \u001b[0mdfs\u001b[0m\u001b[0;34m[\u001b[0m\u001b[0mcsv\u001b[0m\u001b[0;34m]\u001b[0m \u001b[0;34m=\u001b[0m \u001b[0mpd\u001b[0m\u001b[0;34m.\u001b[0m\u001b[0mread_csv\u001b[0m\u001b[0;34m(\u001b[0m\u001b[0mpath\u001b[0m\u001b[0;34m)\u001b[0m\u001b[0;34m\u001b[0m\u001b[0m\n\u001b[0m\u001b[1;32m     15\u001b[0m     \u001b[0;31m# replace spaces in column names with udnerscores\u001b[0m\u001b[0;34m\u001b[0m\u001b[0;34m\u001b[0m\u001b[0m\n\u001b[1;32m     16\u001b[0m     \u001b[0mdfs\u001b[0m\u001b[0;34m[\u001b[0m\u001b[0mcsv\u001b[0m\u001b[0;34m]\u001b[0m\u001b[0;34m.\u001b[0m\u001b[0mcolumns\u001b[0m \u001b[0;34m=\u001b[0m \u001b[0;34m[\u001b[0m\u001b[0mcol\u001b[0m\u001b[0;34m.\u001b[0m\u001b[0mreplace\u001b[0m\u001b[0;34m(\u001b[0m\u001b[0;34m' '\u001b[0m\u001b[0;34m,\u001b[0m \u001b[0;34m'_'\u001b[0m\u001b[0;34m)\u001b[0m \u001b[0;32mfor\u001b[0m \u001b[0mcol\u001b[0m \u001b[0;32min\u001b[0m \u001b[0mlist\u001b[0m\u001b[0;34m(\u001b[0m\u001b[0mdfs\u001b[0m\u001b[0;34m[\u001b[0m\u001b[0mcsv\u001b[0m\u001b[0;34m]\u001b[0m\u001b[0;34m.\u001b[0m\u001b[0mcolumns\u001b[0m\u001b[0;34m)\u001b[0m\u001b[0;34m]\u001b[0m\u001b[0;34m\u001b[0m\u001b[0m\n",
        "\u001b[0;32m/Library/Python/2.7/site-packages/pandas/io/parsers.pyc\u001b[0m in \u001b[0;36mparser_f\u001b[0;34m(filepath_or_buffer, sep, dialect, compression, doublequote, escapechar, quotechar, quoting, skipinitialspace, lineterminator, header, index_col, names, prefix, skiprows, skipfooter, skip_footer, na_values, na_fvalues, true_values, false_values, delimiter, converters, dtype, usecols, engine, delim_whitespace, as_recarray, na_filter, compact_ints, use_unsigned, low_memory, buffer_lines, warn_bad_lines, error_bad_lines, keep_default_na, thousands, comment, decimal, parse_dates, keep_date_col, dayfirst, date_parser, memory_map, nrows, iterator, chunksize, verbose, encoding, squeeze, mangle_dupe_cols, tupleize_cols)\u001b[0m\n\u001b[1;32m    398\u001b[0m             )\n\u001b[1;32m    399\u001b[0m \u001b[0;34m\u001b[0m\u001b[0m\n\u001b[0;32m--> 400\u001b[0;31m         \u001b[0;32mreturn\u001b[0m \u001b[0m_read\u001b[0m\u001b[0;34m(\u001b[0m\u001b[0mfilepath_or_buffer\u001b[0m\u001b[0;34m,\u001b[0m \u001b[0mkwds\u001b[0m\u001b[0;34m)\u001b[0m\u001b[0;34m\u001b[0m\u001b[0m\n\u001b[0m\u001b[1;32m    401\u001b[0m \u001b[0;34m\u001b[0m\u001b[0m\n\u001b[1;32m    402\u001b[0m     \u001b[0mparser_f\u001b[0m\u001b[0;34m.\u001b[0m\u001b[0m__name__\u001b[0m \u001b[0;34m=\u001b[0m \u001b[0mname\u001b[0m\u001b[0;34m\u001b[0m\u001b[0m\n",
        "\u001b[0;32m/Library/Python/2.7/site-packages/pandas/io/parsers.pyc\u001b[0m in \u001b[0;36m_read\u001b[0;34m(filepath_or_buffer, kwds)\u001b[0m\n\u001b[1;32m    196\u001b[0m \u001b[0;34m\u001b[0m\u001b[0m\n\u001b[1;32m    197\u001b[0m     \u001b[0;31m# Create the parser.\u001b[0m\u001b[0;34m\u001b[0m\u001b[0;34m\u001b[0m\u001b[0m\n\u001b[0;32m--> 198\u001b[0;31m     \u001b[0mparser\u001b[0m \u001b[0;34m=\u001b[0m \u001b[0mTextFileReader\u001b[0m\u001b[0;34m(\u001b[0m\u001b[0mfilepath_or_buffer\u001b[0m\u001b[0;34m,\u001b[0m \u001b[0;34m**\u001b[0m\u001b[0mkwds\u001b[0m\u001b[0;34m)\u001b[0m\u001b[0;34m\u001b[0m\u001b[0m\n\u001b[0m\u001b[1;32m    199\u001b[0m \u001b[0;34m\u001b[0m\u001b[0m\n\u001b[1;32m    200\u001b[0m     \u001b[0;32mif\u001b[0m \u001b[0mnrows\u001b[0m \u001b[0;32mis\u001b[0m \u001b[0;32mnot\u001b[0m \u001b[0mNone\u001b[0m\u001b[0;34m:\u001b[0m\u001b[0;34m\u001b[0m\u001b[0m\n",
        "\u001b[0;32m/Library/Python/2.7/site-packages/pandas/io/parsers.pyc\u001b[0m in \u001b[0;36m__init__\u001b[0;34m(self, f, engine, **kwds)\u001b[0m\n\u001b[1;32m    477\u001b[0m             \u001b[0mself\u001b[0m\u001b[0;34m.\u001b[0m\u001b[0moptions\u001b[0m\u001b[0;34m[\u001b[0m\u001b[0;34m'has_index_names'\u001b[0m\u001b[0;34m]\u001b[0m \u001b[0;34m=\u001b[0m \u001b[0mkwds\u001b[0m\u001b[0;34m[\u001b[0m\u001b[0;34m'has_index_names'\u001b[0m\u001b[0;34m]\u001b[0m\u001b[0;34m\u001b[0m\u001b[0m\n\u001b[1;32m    478\u001b[0m \u001b[0;34m\u001b[0m\u001b[0m\n\u001b[0;32m--> 479\u001b[0;31m         \u001b[0mself\u001b[0m\u001b[0;34m.\u001b[0m\u001b[0m_make_engine\u001b[0m\u001b[0;34m(\u001b[0m\u001b[0mself\u001b[0m\u001b[0;34m.\u001b[0m\u001b[0mengine\u001b[0m\u001b[0;34m)\u001b[0m\u001b[0;34m\u001b[0m\u001b[0m\n\u001b[0m\u001b[1;32m    480\u001b[0m \u001b[0;34m\u001b[0m\u001b[0m\n\u001b[1;32m    481\u001b[0m     \u001b[0;32mdef\u001b[0m \u001b[0m_get_options_with_defaults\u001b[0m\u001b[0;34m(\u001b[0m\u001b[0mself\u001b[0m\u001b[0;34m,\u001b[0m \u001b[0mengine\u001b[0m\u001b[0;34m)\u001b[0m\u001b[0;34m:\u001b[0m\u001b[0;34m\u001b[0m\u001b[0m\n",
        "\u001b[0;32m/Library/Python/2.7/site-packages/pandas/io/parsers.pyc\u001b[0m in \u001b[0;36m_make_engine\u001b[0;34m(self, engine)\u001b[0m\n\u001b[1;32m    584\u001b[0m     \u001b[0;32mdef\u001b[0m \u001b[0m_make_engine\u001b[0m\u001b[0;34m(\u001b[0m\u001b[0mself\u001b[0m\u001b[0;34m,\u001b[0m \u001b[0mengine\u001b[0m\u001b[0;34m=\u001b[0m\u001b[0;34m'c'\u001b[0m\u001b[0;34m)\u001b[0m\u001b[0;34m:\u001b[0m\u001b[0;34m\u001b[0m\u001b[0m\n\u001b[1;32m    585\u001b[0m         \u001b[0;32mif\u001b[0m \u001b[0mengine\u001b[0m \u001b[0;34m==\u001b[0m \u001b[0;34m'c'\u001b[0m\u001b[0;34m:\u001b[0m\u001b[0;34m\u001b[0m\u001b[0m\n\u001b[0;32m--> 586\u001b[0;31m             \u001b[0mself\u001b[0m\u001b[0;34m.\u001b[0m\u001b[0m_engine\u001b[0m \u001b[0;34m=\u001b[0m \u001b[0mCParserWrapper\u001b[0m\u001b[0;34m(\u001b[0m\u001b[0mself\u001b[0m\u001b[0;34m.\u001b[0m\u001b[0mf\u001b[0m\u001b[0;34m,\u001b[0m \u001b[0;34m**\u001b[0m\u001b[0mself\u001b[0m\u001b[0;34m.\u001b[0m\u001b[0moptions\u001b[0m\u001b[0;34m)\u001b[0m\u001b[0;34m\u001b[0m\u001b[0m\n\u001b[0m\u001b[1;32m    587\u001b[0m         \u001b[0;32melse\u001b[0m\u001b[0;34m:\u001b[0m\u001b[0;34m\u001b[0m\u001b[0m\n\u001b[1;32m    588\u001b[0m             \u001b[0;32mif\u001b[0m \u001b[0mengine\u001b[0m \u001b[0;34m==\u001b[0m \u001b[0;34m'python'\u001b[0m\u001b[0;34m:\u001b[0m\u001b[0;34m\u001b[0m\u001b[0m\n",
        "\u001b[0;32m/Library/Python/2.7/site-packages/pandas/io/parsers.pyc\u001b[0m in \u001b[0;36m__init__\u001b[0;34m(self, src, **kwds)\u001b[0m\n\u001b[1;32m    955\u001b[0m         \u001b[0mkwds\u001b[0m\u001b[0;34m[\u001b[0m\u001b[0;34m'allow_leading_cols'\u001b[0m\u001b[0;34m]\u001b[0m \u001b[0;34m=\u001b[0m \u001b[0mself\u001b[0m\u001b[0;34m.\u001b[0m\u001b[0mindex_col\u001b[0m \u001b[0;32mis\u001b[0m \u001b[0;32mnot\u001b[0m \u001b[0mFalse\u001b[0m\u001b[0;34m\u001b[0m\u001b[0m\n\u001b[1;32m    956\u001b[0m \u001b[0;34m\u001b[0m\u001b[0m\n\u001b[0;32m--> 957\u001b[0;31m         \u001b[0mself\u001b[0m\u001b[0;34m.\u001b[0m\u001b[0m_reader\u001b[0m \u001b[0;34m=\u001b[0m \u001b[0m_parser\u001b[0m\u001b[0;34m.\u001b[0m\u001b[0mTextReader\u001b[0m\u001b[0;34m(\u001b[0m\u001b[0msrc\u001b[0m\u001b[0;34m,\u001b[0m \u001b[0;34m**\u001b[0m\u001b[0mkwds\u001b[0m\u001b[0;34m)\u001b[0m\u001b[0;34m\u001b[0m\u001b[0m\n\u001b[0m\u001b[1;32m    958\u001b[0m \u001b[0;34m\u001b[0m\u001b[0m\n\u001b[1;32m    959\u001b[0m         \u001b[0;31m# XXX\u001b[0m\u001b[0;34m\u001b[0m\u001b[0;34m\u001b[0m\u001b[0m\n",
        "\u001b[0;32m/Library/Python/2.7/site-packages/pandas/parser.so\u001b[0m in \u001b[0;36mpandas.parser.TextReader.__cinit__ (pandas/parser.c:2987)\u001b[0;34m()\u001b[0m\n",
        "\u001b[0;32m/Library/Python/2.7/site-packages/pandas/parser.so\u001b[0m in \u001b[0;36mpandas.parser.TextReader._setup_parser_source (pandas/parser.c:5345)\u001b[0;34m()\u001b[0m\n",
        "\u001b[0;31mIOError\u001b[0m: File /Users/p/Desktop/un-myworld/data/world_governance_indicators/control_of_corruption.csv does not exist"
       ]
      }
     ],
     "prompt_number": 6
    },
    {
     "cell_type": "code",
     "collapsed": false,
     "input": [
      "# null out out of range mw values\n",
      "mw['country'] = mw['country'].apply(to_int_str)\n",
      "null_oor_values('country')\n",
      "null_oor_values('education')\n",
      "null_oor_values('gender')"
     ],
     "language": "python",
     "metadata": {},
     "outputs": [],
     "prompt_number": 42
    },
    {
     "cell_type": "code",
     "collapsed": false,
     "input": [
      "# decode mw country names\n",
      "mw['country'] = mw['country'].apply(decode, key='country')"
     ],
     "language": "python",
     "metadata": {},
     "outputs": [],
     "prompt_number": 43
    },
    {
     "cell_type": "code",
     "collapsed": false,
     "input": [
      "# lowerize mw country names\n",
      "mw['country'] = mw['country'].apply(to_lower)"
     ],
     "language": "python",
     "metadata": {},
     "outputs": [],
     "prompt_number": 44
    },
    {
     "cell_type": "code",
     "collapsed": false,
     "input": [
      "# pre-merge sanity check: mw countries not in wgi dfs\n",
      "diff(list(mw['country'].unique()),dfs['rule_of_law']['country'])\n",
      "# just for kicks, wsgi countries not in mw\n",
      "# diff(dfs['rule_of_law']['country'],list(mw['country'].unique()))"
     ],
     "language": "python",
     "metadata": {},
     "outputs": [],
     "prompt_number": 55
    },
    {
     "cell_type": "code",
     "collapsed": false,
     "input": [
      "merge = [dfs[key] for key in dfs.keys()]\n",
      "while len(merge) > 1:\n",
      "    merge[0] = pd.merge(merge[0], merge[1], on='country')\n",
      "    del merge[1]"
     ],
     "language": "python",
     "metadata": {},
     "outputs": [],
     "prompt_number": 51
    },
    {
     "cell_type": "code",
     "collapsed": false,
     "input": [
      "mw_wsgi = pd.merge(mw, merge[0], on='country')"
     ],
     "language": "python",
     "metadata": {},
     "outputs": [],
     "prompt_number": 53
    },
    {
     "cell_type": "code",
     "collapsed": false,
     "input": [
      "# merged[merged['country'] == 'austria'].head()['gov_effectiveness_2012_Estimate']\n",
      "aus = reg_12[reg_12['country'] =='australia']\n",
      "mw_aus = mw[mw['country'] == 'australia']\n",
      "aus_merge = pd.merge(aus, mw_aus, on='country')"
     ],
     "language": "python",
     "metadata": {},
     "outputs": [],
     "prompt_number": 75
    },
    {
     "cell_type": "code",
     "collapsed": false,
     "input": [
      "mw_wgi.to_csv('/Users/p/Desktop/myworld_wgi_clean.csv', encode='utf-8')"
     ],
     "language": "python",
     "metadata": {},
     "outputs": [],
     "prompt_number": 63
    },
    {
     "cell_type": "code",
     "collapsed": false,
     "input": [
      "def null_oor_values(col):\n",
      "    if re.match('priority[1-6]', col):\n",
      "        key = 'choices'\n",
      "    # cols: country, education, gender, priorities, \n",
      "    mw[col] = mw[col].fillna(0)\n",
      "    mw[col] = mw[col].replace(to_replace='None')\n",
      "    code = [float(f) for f in mw_codes_json[col].keys()]\n",
      "    bad_values = [val for val in list(mw[col].unique()) if float(val) not in code]\n",
      "    mw[col] = mw[col].replace(to_replace=bad_values)"
     ],
     "language": "python",
     "metadata": {},
     "outputs": [],
     "prompt_number": 32
    },
    {
     "cell_type": "code",
     "collapsed": false,
     "input": [
      "def decode(val, key):\n",
      "    \"\"\"\n",
      "        Takes a column value and column heading\n",
      "        and returns non-coded value text         \n",
      "    \"\"\"\n",
      "    try: \n",
      "        val = int(val)\n",
      "    except:\n",
      "        pass\n",
      "    if re.match('priority[1-6]', key):\n",
      "        return mw_codes_json['choices'][str(val)]\n",
      "    elif val != 'None':\n",
      "        try:\n",
      "            return mw_codes_json[key][str(val)]\n",
      "        except:\n",
      "            pass\n",
      "    else:\n",
      "        pass"
     ],
     "language": "python",
     "metadata": {},
     "outputs": [],
     "prompt_number": 13
    },
    {
     "cell_type": "code",
     "collapsed": false,
     "input": [
      "def decode(val, key):\n",
      "    try:\n",
      "        return mw_codes_json[key][str(val)]\n",
      "    except:\n",
      "        pass"
     ],
     "language": "python",
     "metadata": {},
     "outputs": [],
     "prompt_number": 14
    },
    {
     "cell_type": "code",
     "collapsed": false,
     "input": [
      "def to_lower(s):\n",
      "    try:\n",
      "        return str(s).lower()\n",
      "    except:\n",
      "        pass"
     ],
     "language": "python",
     "metadata": {},
     "outputs": [],
     "prompt_number": 15
    },
    {
     "cell_type": "code",
     "collapsed": false,
     "input": [
      "def to_int_str(s):\n",
      "    try:\n",
      "        return str(int(float(s)))\n",
      "    except:\n",
      "        pass"
     ],
     "language": "python",
     "metadata": {},
     "outputs": [],
     "prompt_number": 16
    },
    {
     "cell_type": "code",
     "collapsed": false,
     "input": [
      "def diff(a, b):\n",
      "    b = set(b)\n",
      "    return [aa for aa in a if aa not in b]"
     ],
     "language": "python",
     "metadata": {},
     "outputs": [],
     "prompt_number": 17
    },
    {
     "cell_type": "code",
     "collapsed": false,
     "input": [
      "# unused functions\n",
      "# def bad_values(code):\n",
      "#     \"\"\"\n",
      "#         Takes a column name and finds all values in \n",
      "#         that column that are either empty or are \n",
      "#         not valid values\n",
      "#     \"\"\"\n",
      "#     if re.match('priority[1-6]', code):\n",
      "#         key = 'choices'\n",
      "#     else:\n",
      "#         key = code\n",
      "#     unique_vals = list(mw[code].apply(to_int_str).unique())    \n",
      "#     acceptable_vals = list(mw_codes_json[key].keys())\n",
      "#     bad_vals = [val for val in unique_vals if str(val) not in acceptable_vals]\n",
      "#     return bad_vals"
     ],
     "language": "python",
     "metadata": {},
     "outputs": [],
     "prompt_number": 12
    },
    {
     "cell_type": "code",
     "collapsed": false,
     "input": [
      "# def handle_bads(col, action=None):\n",
      "#     \"\"\"\n",
      "#         Takes a column name and action and returns a\n",
      "#         data frame with that action applied to the df \n",
      "#         values.\n",
      "#     \"\"\"\n",
      "#     bads = bad_values(col)\n",
      "#     print bads\n",
      "#     if action == None:\n",
      "#         mw[col] = mw[col].replace(to_replace=bads, value=\"None\")\n",
      "#     elif action == 'drop':\n",
      "#         mw[mw[col].isin(bads)].drop\n",
      "#     return mw"
     ],
     "language": "python",
     "metadata": {},
     "outputs": [],
     "prompt_number": 11
    }
   ],
   "metadata": {}
  }
 ]
}