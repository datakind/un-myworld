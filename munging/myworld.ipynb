{
 "metadata": {
  "name": ""
 },
 "nbformat": 3,
 "nbformat_minor": 0,
 "worksheets": [
  {
   "cells": [
    {
     "cell_type": "code",
     "collapsed": false,
     "input": [
      "import pandas as pd\n",
      "import requests\n",
      "import re\n",
      "from subprocess import call"
     ],
     "language": "python",
     "metadata": {},
     "outputs": [],
     "prompt_number": 7
    },
    {
     "cell_type": "code",
     "collapsed": false,
     "input": [
      "# fetch the MyWorld codes\n",
      "mw_codes_json = requests.get('http://54.227.246.164/dataset/MYWorld_fields.json').json()"
     ],
     "language": "python",
     "metadata": {},
     "outputs": [],
     "prompt_number": 8
    },
    {
     "cell_type": "code",
     "collapsed": false,
     "input": [
      "# fetch the MyWorld data\n",
      "call(['wget', 'http://54.227.246.164/dataset/data/MYWorld_votes_all.csv.tar.bz2', '-P', '../data'])\n",
      "call(['bzip2','-d','../data/MYWorld_votes_all.csv.tar.bz2'])\n",
      "call(['tar', '-xvf', '../data/MYWorld_votes_all.csv.tar', '--directory=../data'])\n",
      "mw = pd.read_csv('../data/MYWorld_votes_all.csv')"
     ],
     "language": "python",
     "metadata": {},
     "outputs": [],
     "prompt_number": 10
    },
    {
     "cell_type": "code",
     "collapsed": false,
     "input": [
      "# fetch the wgi data\n",
      "call(['mkdir', '../data/wgi'])\n",
      "call(['wget','https://www.dropbox.com/s/w2po59d3pvjijv1/control_of_corruption.csv','-P','../data/wgi'])\n",
      "call(['wget','https://www.dropbox.com/s/zbkyv5dbnzi62fk/government_effectiveness.csv','-P','../data/wgi'])\n",
      "call(['wget','https://www.dropbox.com/s/md01cxycspdkdu6/political_stability_no_violence.csv','-P','../data/wgi'])\n",
      "call(['wget','https://www.dropbox.com/s/hgh1cklc1wh0ps2/regulatory_quality.csv','-P','../data/wgi'])\n",
      "call(['wget','https://www.dropbox.com/s/8gdcp57s2vyihvu/rule_of_law.csv','-P','../data/wig'])\n",
      "call(['wget','https://www.dropbox.com/s/z9gybkg0jedw28h/voice_accountability.csv','-P','../data/wgi'])"
     ],
     "language": "python",
     "metadata": {},
     "outputs": [
      {
       "metadata": {},
       "output_type": "pyout",
       "prompt_number": 11,
       "text": [
        "0"
       ]
      }
     ],
     "prompt_number": 11
    },
    {
     "cell_type": "code",
     "collapsed": false,
     "input": [
      "# tuple list of countries in mw not in wgi\n",
      "# use the 'diff' function below to test this\n",
      "tuples = [\n",
      "    (\"american samoa\",\"samoa\"),\n",
      "    (\"micronesia, fed. sts.\", \"micronesia (federated states of)\"),\n",
      "    (\"bahamas, the\", \"bahamas\"),\n",
      "    (\"moldova\",\"republic of moldova\"),\n",
      "    (\"slovak republic\", \"slovakia\"),\n",
      "    (\"bolivia\",\"bolivia (plurinational state of)\"),\n",
      "    (\"gambia, the\",\"gambia\"),\n",
      "    (\"egypt, arab rep.\", \"egypt\"),\n",
      "    (\"iran, islamic rep.\",\"iran (islamic republic of)\"),\n",
      "    (\"korea, dem. rep.\",\"democratic people's republic of korea\"),\n",
      "    (\"korea, rep.\",\"republic of korea\",),\n",
      "    (\"lao pdr\",\"lao people's democratic republic\"),\n",
      "    (\"macedonia, fyr\",\"the former yugoslav republic of macedonia\"),\n",
      "    (\"yemen, rep.\", \"yemen\"),\n",
      "    (\"vietnam\", \"viet nam\"),\n",
      "    (\"congo, dem. rep.\",\"democratic republic of the congo\",),\n",
      "    (\"congo, rep.\", \"congo\"),\n",
      "    (\"united kingdom\",\"united kingdom of great britain and northern ireland\"),\n",
      "    (\"united states\",\"united states of america\"),\n",
      "    (\"venezuela, rb\",\"venezuela (bolivarian republic of)\"),\n",
      "    (\"west bank and gaza\", \"palestine (state of)\"),\n",
      "    (\"tanzania\", \"united republic of tanzania\"),\n",
      "    (\"kyrgyz republic\",\"kyrgyzstan\"),\n",
      "    (\"st. lucia\", \"saint lucia\"),\n",
      "    (\"st. vincent and the grenadines\", \"saint vincent and the grenadines\"),\n",
      "    (\"st. kitts and nevis\", \"saint kitts and nevis\")\n",
      "]"
     ],
     "language": "python",
     "metadata": {},
     "outputs": [],
     "prompt_number": 12
    },
    {
     "cell_type": "code",
     "collapsed": false,
     "input": [
      "dfs = {}\n",
      "target_cols = ['Country/Territory', '2012_Estimate']\n",
      "wgi_csvs = [\n",
      "    'control_of_corruption', \n",
      "    'political_stability_no_violence',\n",
      "    'rule_of_law', 'government_effectiveness', \n",
      "    'regulatory_quality', 'voice_accountability'\n",
      " ]\n",
      "\n",
      "# process the wgi data \n",
      "for csv in wgi_csvs:\n",
      "    # read in the data set\n",
      "    path = '../data/wgi/%s' % str(csv + '.csv')\n",
      "    dfs[csv] = pd.read_csv(path)\n",
      "    # replace spaces in column names with udnerscores\n",
      "    dfs[csv].columns = [col.replace(' ', '_') for col in list(dfs[csv].columns)]\n",
      "    # replace the df with the target cols df\n",
      "    dfs[csv] = dfs[csv].ix[:,target_cols]\n",
      "    # add the name to the column names\n",
      "    dfs[csv].columns = ['country'] + [csv +'_'+ col for col in target_cols[1:]]\n",
      "    # make the country names lower case\n",
      "    dfs[csv]['country'] = dfs[csv]['country'].apply(to_lower)\n",
      "    # replace the bad countries with the good countries\n",
      "    for tup in tuples:\n",
      "        dfs[csv]['country'] = dfs[csv]['country'].replace(tup[0],tup[1])\n",
      "    # ineleganty fix the unruly countries    \n",
      "    dfs[csv].ix[dfs[csv]['country'].str.contains('voire'), 'country'] = \"cote d'ivoire\"\n",
      "    dfs[csv].ix[dfs[csv]['country'].str.contains('ncipe'), 'country'] = 'sao tome and principe'\n",
      "    dfs[csv].ix[dfs[csv]['country'].str.contains('of the congo'), 'country'] = 'democratic republic of the congo'\n",
      "    dfs[csv].ix[dfs[csv]['country'].str.contains('union'), 'country'] = 'reunion'"
     ],
     "language": "python",
     "metadata": {},
     "outputs": [],
     "prompt_number": 20
    },
    {
     "cell_type": "code",
     "collapsed": false,
     "input": [
      "# null out out of range mw values\n",
      "mw['country'] = mw['country'].apply(to_int_str)\n",
      "null_oor_values('country')\n",
      "null_oor_values('education')\n",
      "null_oor_values('gender')"
     ],
     "language": "python",
     "metadata": {},
     "outputs": [],
     "prompt_number": 23
    },
    {
     "cell_type": "code",
     "collapsed": false,
     "input": [
      "# decode mw country names\n",
      "mw['country'] = mw['country'].apply(decode, key='country')"
     ],
     "language": "python",
     "metadata": {},
     "outputs": [],
     "prompt_number": 24
    },
    {
     "cell_type": "code",
     "collapsed": false,
     "input": [
      "# lowerize mw country names\n",
      "mw['country'] = mw['country'].apply(to_lower)"
     ],
     "language": "python",
     "metadata": {},
     "outputs": [],
     "prompt_number": 25
    },
    {
     "cell_type": "code",
     "collapsed": false,
     "input": [
      "# pre-merge sanity check: mw countries not in wgi dfs\n",
      "diff(list(mw['country'].unique()),dfs['rule_of_law']['country'])\n",
      "# just for kicks, wgi countries not in mw\n",
      "# diff(dfs['rule_of_law']['country'],list(mw['country'].unique()))"
     ],
     "language": "python",
     "metadata": {},
     "outputs": [
      {
       "metadata": {},
       "output_type": "pyout",
       "prompt_number": 31,
       "text": [
        "['anguilla',\n",
        " 'aruba',\n",
        " 'bermuda',\n",
        " 'cayman islands',\n",
        " 'cook islands',\n",
        " 'french guiana',\n",
        " 'greenland',\n",
        " 'guam',\n",
        " 'hong kong sar, china',\n",
        " 'jersey, channel islands',\n",
        " 'kosovo',\n",
        " 'macao sar, china',\n",
        " 'martinique',\n",
        " 'netherlands antilles (former)',\n",
        " 'new caledonia',\n",
        " 'niue',\n",
        " 'puerto rico',\n",
        " 'reunion',\n",
        " 'taiwan, china',\n",
        " 'virgin islands (u.s.)']"
       ]
      }
     ],
     "prompt_number": 31
    },
    {
     "cell_type": "code",
     "collapsed": false,
     "input": [
      "merge = [dfs[key] for key in dfs.keys()]\n",
      "while len(merge) > 1:\n",
      "    merge[0] = pd.merge(merge[0], merge[1], on='country')\n",
      "    del merge[1]"
     ],
     "language": "python",
     "metadata": {},
     "outputs": [],
     "prompt_number": 27
    },
    {
     "cell_type": "code",
     "collapsed": false,
     "input": [
      "mw_wgi = pd.merge(mw, merge[0], on='country')"
     ],
     "language": "python",
     "metadata": {},
     "outputs": [],
     "prompt_number": 28
    },
    {
     "cell_type": "code",
     "collapsed": false,
     "input": [
      "mw_wgi.to_csv('/Users/p/Desktop/myworld_wgi_clean.csv', encode='utf-8')"
     ],
     "language": "python",
     "metadata": {},
     "outputs": [],
     "prompt_number": 63
    },
    {
     "cell_type": "code",
     "collapsed": false,
     "input": [
      "def null_oor_values(col):\n",
      "    if re.match('priority[1-6]', col):\n",
      "        key = 'choices'\n",
      "    # cols: country, education, gender, priorities, \n",
      "    mw[col] = mw[col].fillna(0)\n",
      "#     mw[col] = mw[col].replace(to_replace='None')\n",
      "    code = [float(f) for f in mw_codes_json[col].keys()]\n",
      "    bad_values = [val for val in list(mw[col].unique()) if float(val) not in code]\n",
      "    mw[col] = mw[col].replace(to_replace=bad_values)"
     ],
     "language": "python",
     "metadata": {},
     "outputs": [],
     "prompt_number": 22
    },
    {
     "cell_type": "code",
     "collapsed": false,
     "input": [
      "def decode(val, key):\n",
      "    \"\"\"\n",
      "        Takes a column value and column heading\n",
      "        and returns non-coded value text         \n",
      "    \"\"\"\n",
      "    try: \n",
      "        val = int(val)\n",
      "    except:\n",
      "        pass\n",
      "    if re.match('priority[1-6]', key):\n",
      "        return mw_codes_json['choices'][str(val)]\n",
      "    elif val != 'None':\n",
      "        try:\n",
      "            return mw_codes_json[key][str(val)]\n",
      "        except:\n",
      "            pass\n",
      "    else:\n",
      "        pass"
     ],
     "language": "python",
     "metadata": {},
     "outputs": [],
     "prompt_number": 15
    },
    {
     "cell_type": "code",
     "collapsed": false,
     "input": [
      "def decode(val, key):\n",
      "    try:\n",
      "        return mw_codes_json[key][str(val)]\n",
      "    except:\n",
      "        pass"
     ],
     "language": "python",
     "metadata": {},
     "outputs": [],
     "prompt_number": 16
    },
    {
     "cell_type": "code",
     "collapsed": false,
     "input": [
      "def to_lower(s):\n",
      "    try:\n",
      "        return str(s).lower()\n",
      "    except:\n",
      "        pass"
     ],
     "language": "python",
     "metadata": {},
     "outputs": [],
     "prompt_number": 17
    },
    {
     "cell_type": "code",
     "collapsed": false,
     "input": [
      "def to_int_str(s):\n",
      "    try:\n",
      "        return str(int(float(s)))\n",
      "    except:\n",
      "        pass"
     ],
     "language": "python",
     "metadata": {},
     "outputs": [],
     "prompt_number": 18
    },
    {
     "cell_type": "code",
     "collapsed": false,
     "input": [
      "def diff(a, b):\n",
      "    b = set(b)\n",
      "    return [aa for aa in a if aa not in b]"
     ],
     "language": "python",
     "metadata": {},
     "outputs": [],
     "prompt_number": 19
    },
    {
     "cell_type": "code",
     "collapsed": false,
     "input": [
      "# unused functions\n",
      "# def bad_values(code):\n",
      "#     \"\"\"\n",
      "#         Takes a column name and finds all values in \n",
      "#         that column that are either empty or are \n",
      "#         not valid values\n",
      "#     \"\"\"\n",
      "#     if re.match('priority[1-6]', code):\n",
      "#         key = 'choices'\n",
      "#     else:\n",
      "#         key = code\n",
      "#     unique_vals = list(mw[code].apply(to_int_str).unique())    \n",
      "#     acceptable_vals = list(mw_codes_json[key].keys())\n",
      "#     bad_vals = [val for val in unique_vals if str(val) not in acceptable_vals]\n",
      "#     return bad_vals"
     ],
     "language": "python",
     "metadata": {},
     "outputs": [],
     "prompt_number": 12
    },
    {
     "cell_type": "code",
     "collapsed": false,
     "input": [
      "# def handle_bads(col, action=None):\n",
      "#     \"\"\"\n",
      "#         Takes a column name and action and returns a\n",
      "#         data frame with that action applied to the df \n",
      "#         values.\n",
      "#     \"\"\"\n",
      "#     bads = bad_values(col)\n",
      "#     print bads\n",
      "#     if action == None:\n",
      "#         mw[col] = mw[col].replace(to_replace=bads, value=\"None\")\n",
      "#     elif action == 'drop':\n",
      "#         mw[mw[col].isin(bads)].drop\n",
      "#     return mw"
     ],
     "language": "python",
     "metadata": {},
     "outputs": [],
     "prompt_number": 11
    }
   ],
   "metadata": {}
  }
 ]
}